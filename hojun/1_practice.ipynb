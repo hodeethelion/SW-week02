{
 "cells": [
  {
   "cell_type": "code",
   "execution_count": 2,
   "id": "001e66ab-87af-4817-af8b-be6b7a460fca",
   "metadata": {
    "execution": {
     "iopub.execute_input": "2023-03-09T07:18:33.826556Z",
     "iopub.status.busy": "2023-03-09T07:18:33.825800Z",
     "iopub.status.idle": "2023-03-09T07:18:47.917919Z",
     "shell.execute_reply": "2023-03-09T07:18:47.916918Z",
     "shell.execute_reply.started": "2023-03-09T07:18:33.826481Z"
    },
    "tags": []
   },
   "outputs": [
    {
     "name": "stdin",
     "output_type": "stream",
     "text": [
      " 5\n",
      " 4 1 5 2 3\n",
      " 5\n",
      " 1 3 7 9 5\n"
     ]
    },
    {
     "name": "stdout",
     "output_type": "stream",
     "text": [
      "1\n",
      "1\n",
      "0\n",
      "0\n",
      "1\n"
     ]
    }
   ],
   "source": [
    "\n",
    "n_number = int(input())\n",
    "n_set = list(map(int, input().split()))\n",
    "trash = int(input())\n",
    "n_compare = list(map(int, input().split()))\n",
    "\n",
    "\n",
    "\n",
    "for item in n_compare:\n",
    "    if item in n_set:\n",
    "        print(1)\n",
    "    else:\n",
    "        print(0)"
   ]
  },
  {
   "cell_type": "code",
   "execution_count": 3,
   "id": "7a562af1-ff05-4c06-a33f-6dad46f93b95",
   "metadata": {
    "execution": {
     "iopub.execute_input": "2023-03-09T07:20:01.528583Z",
     "iopub.status.busy": "2023-03-09T07:20:01.527847Z",
     "iopub.status.idle": "2023-03-09T07:20:01.549369Z",
     "shell.execute_reply": "2023-03-09T07:20:01.546461Z",
     "shell.execute_reply.started": "2023-03-09T07:20:01.528510Z"
    }
   },
   "outputs": [
    {
     "ename": "ValueError",
     "evalue": "invalid literal for int() with base 10: ''",
     "output_type": "error",
     "traceback": [
      "\u001b[0;31m---------------------------------------------------------------------------\u001b[0m",
      "\u001b[0;31mValueError\u001b[0m                                Traceback (most recent call last)",
      "\u001b[0;32m/var/folders/g3/zsq0q5xd2l7gxsc1sl8_jmh40000gn/T/ipykernel_21036/1461412965.py\u001b[0m in \u001b[0;36m<module>\u001b[0;34m\u001b[0m\n\u001b[1;32m      1\u001b[0m \u001b[0;32mimport\u001b[0m \u001b[0msys\u001b[0m\u001b[0;34m\u001b[0m\u001b[0;34m\u001b[0m\u001b[0m\n\u001b[0;32m----> 2\u001b[0;31m \u001b[0mn_number\u001b[0m \u001b[0;34m=\u001b[0m \u001b[0mint\u001b[0m\u001b[0;34m(\u001b[0m\u001b[0msys\u001b[0m\u001b[0;34m.\u001b[0m\u001b[0mstdin\u001b[0m\u001b[0;34m.\u001b[0m\u001b[0mreadline\u001b[0m\u001b[0;34m(\u001b[0m\u001b[0;34m)\u001b[0m\u001b[0;34m)\u001b[0m\u001b[0;34m\u001b[0m\u001b[0;34m\u001b[0m\u001b[0m\n\u001b[0m\u001b[1;32m      3\u001b[0m \u001b[0mn_set\u001b[0m \u001b[0;34m=\u001b[0m \u001b[0mlist\u001b[0m\u001b[0;34m(\u001b[0m\u001b[0mmap\u001b[0m\u001b[0;34m(\u001b[0m\u001b[0mint\u001b[0m\u001b[0;34m,\u001b[0m \u001b[0msys\u001b[0m\u001b[0;34m.\u001b[0m\u001b[0mstdin\u001b[0m\u001b[0;34m.\u001b[0m\u001b[0mreadline\u001b[0m\u001b[0;34m(\u001b[0m\u001b[0;34m)\u001b[0m\u001b[0;34m.\u001b[0m\u001b[0msplit\u001b[0m\u001b[0;34m(\u001b[0m\u001b[0;34m)\u001b[0m\u001b[0;34m)\u001b[0m\u001b[0;34m)\u001b[0m\u001b[0;34m\u001b[0m\u001b[0;34m\u001b[0m\u001b[0m\n\u001b[1;32m      4\u001b[0m \u001b[0mtrash\u001b[0m \u001b[0;34m=\u001b[0m \u001b[0mint\u001b[0m\u001b[0;34m(\u001b[0m\u001b[0msys\u001b[0m\u001b[0;34m.\u001b[0m\u001b[0mstdin\u001b[0m\u001b[0;34m.\u001b[0m\u001b[0mreadline\u001b[0m\u001b[0;34m(\u001b[0m\u001b[0;34m)\u001b[0m\u001b[0;34m)\u001b[0m\u001b[0;34m\u001b[0m\u001b[0;34m\u001b[0m\u001b[0m\n\u001b[1;32m      5\u001b[0m \u001b[0mn_compare\u001b[0m \u001b[0;34m=\u001b[0m \u001b[0mlist\u001b[0m\u001b[0;34m(\u001b[0m\u001b[0mmap\u001b[0m\u001b[0;34m(\u001b[0m\u001b[0mint\u001b[0m\u001b[0;34m,\u001b[0m \u001b[0msys\u001b[0m\u001b[0;34m.\u001b[0m\u001b[0mstdin\u001b[0m\u001b[0;34m.\u001b[0m\u001b[0mreadline\u001b[0m\u001b[0;34m(\u001b[0m\u001b[0;34m)\u001b[0m\u001b[0;34m.\u001b[0m\u001b[0msplit\u001b[0m\u001b[0;34m(\u001b[0m\u001b[0;34m)\u001b[0m\u001b[0;34m)\u001b[0m\u001b[0;34m)\u001b[0m\u001b[0;34m\u001b[0m\u001b[0;34m\u001b[0m\u001b[0m\n",
      "\u001b[0;31mValueError\u001b[0m: invalid literal for int() with base 10: ''"
     ]
    }
   ],
   "source": [
    "import sys\n",
    "n_number = int(sys.stdin.readline())\n",
    "n_set = list(map(int, sys.stdin.readline().split()))\n",
    "trash = int(sys.stdin.readline())\n",
    "n_compare = list(map(int, sys.stdin.readline().split()))\n",
    "\n",
    "\n",
    "\n",
    "for item in n_compare:\n",
    "    if item in n_set:\n",
    "        print(1)\n",
    "    else:\n",
    "        print(0)"
   ]
  },
  {
   "cell_type": "markdown",
   "id": "62430148-1ec4-4b8a-89c9-c99a18cd6ad4",
   "metadata": {
    "execution": {
     "iopub.execute_input": "2023-03-09T07:33:08.587549Z",
     "iopub.status.busy": "2023-03-09T07:33:08.586317Z",
     "iopub.status.idle": "2023-03-09T07:33:08.598763Z",
     "shell.execute_reply": "2023-03-09T07:33:08.597811Z",
     "shell.execute_reply.started": "2023-03-09T07:33:08.587481Z"
    }
   },
   "source": [
    "# 이진 탐색 코드\n",
    "## Divide and Conquer"
   ]
  },
  {
   "cell_type": "markdown",
   "id": "a2789fad-28a0-4fad-8a18-ffdd496892d8",
   "metadata": {},
   "source": [
    "+ Divde:두개의 서브리스트로 나눈다 \n",
    "+ Conquer:서브리스트에서 검색할 숫자를 찾는다 "
   ]
  },
  {
   "cell_type": "code",
   "execution_count": 17,
   "id": "3636391d-c862-4426-be67-b72abf614499",
   "metadata": {
    "execution": {
     "iopub.execute_input": "2023-03-09T07:41:15.962991Z",
     "iopub.status.busy": "2023-03-09T07:41:15.962415Z",
     "iopub.status.idle": "2023-03-09T07:41:15.972040Z",
     "shell.execute_reply": "2023-03-09T07:41:15.971197Z",
     "shell.execute_reply.started": "2023-03-09T07:41:15.962949Z"
    },
    "tags": []
   },
   "outputs": [],
   "source": [
    "# list --> 중간값 찾고 크면 오른쪽 작으면 왼쪽\n",
    "\n",
    "#data: 찾을 곳 \n",
    "#search: 찾는 것\n",
    "# return 할 곳이 애매 하긴 하다잉\n",
    "def binary_search(data, search):\n",
    "    if len(data) == 1 and search == data[0]:\n",
    "        return 1\n",
    "    if len(data) == 1 and search != data[0]:\n",
    "        return 0\n",
    "    if len(data) == 0:\n",
    "        return 0\n",
    "        \n",
    "    medium = len(data) // 2\n",
    "    if search == data[medium]:\n",
    "        return 1\n",
    "    else:\n",
    "        if search > data[medium]:\n",
    "            return binary_search(data[medium:], search)\n",
    "        else:\n",
    "            return binary_search(data[:medium], search)"
   ]
  },
  {
   "cell_type": "code",
   "execution_count": 12,
   "id": "31a9fd5c-b113-4fad-8330-ab0519edee88",
   "metadata": {
    "execution": {
     "iopub.execute_input": "2023-03-09T07:40:00.848507Z",
     "iopub.status.busy": "2023-03-09T07:40:00.847758Z",
     "iopub.status.idle": "2023-03-09T07:40:00.858101Z",
     "shell.execute_reply": "2023-03-09T07:40:00.856745Z",
     "shell.execute_reply.started": "2023-03-09T07:40:00.848433Z"
    },
    "tags": []
   },
   "outputs": [
    {
     "data": {
      "text/plain": [
       "[51, 62, 90, 21, 16, 84, 32, 87, 25, 94]"
      ]
     },
     "execution_count": 12,
     "metadata": {},
     "output_type": "execute_result"
    }
   ],
   "source": [
    "import random \n",
    "data_list = random.sample(range(100), 10)\n",
    "data_list"
   ]
  },
  {
   "cell_type": "code",
   "execution_count": 13,
   "id": "4429dee4-b87e-4ada-b0cb-f7ea6362fea0",
   "metadata": {
    "execution": {
     "iopub.execute_input": "2023-03-09T07:40:02.109493Z",
     "iopub.status.busy": "2023-03-09T07:40:02.109083Z",
     "iopub.status.idle": "2023-03-09T07:40:02.116597Z",
     "shell.execute_reply": "2023-03-09T07:40:02.115073Z",
     "shell.execute_reply.started": "2023-03-09T07:40:02.109460Z"
    },
    "tags": []
   },
   "outputs": [],
   "source": [
    "data_list.sort()"
   ]
  },
  {
   "cell_type": "code",
   "execution_count": 14,
   "id": "31382af4-f6c7-4c6e-a09a-3a0b36c1db2f",
   "metadata": {
    "execution": {
     "iopub.execute_input": "2023-03-09T07:40:02.650476Z",
     "iopub.status.busy": "2023-03-09T07:40:02.650070Z",
     "iopub.status.idle": "2023-03-09T07:40:02.657526Z",
     "shell.execute_reply": "2023-03-09T07:40:02.656750Z",
     "shell.execute_reply.started": "2023-03-09T07:40:02.650441Z"
    },
    "tags": []
   },
   "outputs": [
    {
     "data": {
      "text/plain": [
       "[16, 21, 25, 32, 51, 62, 84, 87, 90, 94]"
      ]
     },
     "execution_count": 14,
     "metadata": {},
     "output_type": "execute_result"
    }
   ],
   "source": [
    "data_list"
   ]
  },
  {
   "cell_type": "code",
   "execution_count": 16,
   "id": "fed05522-982b-42e1-ac79-b9147c3551c4",
   "metadata": {
    "execution": {
     "iopub.execute_input": "2023-03-09T07:40:09.268988Z",
     "iopub.status.busy": "2023-03-09T07:40:09.268598Z",
     "iopub.status.idle": "2023-03-09T07:40:09.275273Z",
     "shell.execute_reply": "2023-03-09T07:40:09.274406Z",
     "shell.execute_reply.started": "2023-03-09T07:40:09.268949Z"
    },
    "tags": []
   },
   "outputs": [
    {
     "data": {
      "text/plain": [
       "1"
      ]
     },
     "execution_count": 16,
     "metadata": {},
     "output_type": "execute_result"
    }
   ],
   "source": [
    "binary_search(data_list, 90)"
   ]
  },
  {
   "cell_type": "code",
   "execution_count": 18,
   "id": "42563b65-a7b2-4ee4-be1e-fc3bab4458fc",
   "metadata": {
    "execution": {
     "iopub.execute_input": "2023-03-09T08:46:29.020831Z",
     "iopub.status.busy": "2023-03-09T08:46:29.020305Z",
     "iopub.status.idle": "2023-03-09T08:46:29.028517Z",
     "shell.execute_reply": "2023-03-09T08:46:29.027535Z",
     "shell.execute_reply.started": "2023-03-09T08:46:29.020795Z"
    }
   },
   "outputs": [],
   "source": [
    "a = {15,19, 30}"
   ]
  },
  {
   "cell_type": "code",
   "execution_count": 26,
   "id": "91111c7d-39cd-4c2d-9ab5-7e4202f54582",
   "metadata": {
    "execution": {
     "iopub.execute_input": "2023-03-09T09:52:44.867831Z",
     "iopub.status.busy": "2023-03-09T09:52:44.867093Z",
     "iopub.status.idle": "2023-03-09T09:52:44.874040Z",
     "shell.execute_reply": "2023-03-09T09:52:44.873027Z",
     "shell.execute_reply.started": "2023-03-09T09:52:44.867756Z"
    },
    "tags": []
   },
   "outputs": [],
   "source": [
    "a = hash(1)"
   ]
  },
  {
   "cell_type": "code",
   "execution_count": 27,
   "id": "8246fa70-653c-4b6a-a2cc-3994f14e854c",
   "metadata": {
    "execution": {
     "iopub.execute_input": "2023-03-09T09:52:48.066711Z",
     "iopub.status.busy": "2023-03-09T09:52:48.066303Z",
     "iopub.status.idle": "2023-03-09T09:52:48.073123Z",
     "shell.execute_reply": "2023-03-09T09:52:48.072372Z",
     "shell.execute_reply.started": "2023-03-09T09:52:48.066676Z"
    }
   },
   "outputs": [
    {
     "data": {
      "text/plain": [
       "1"
      ]
     },
     "execution_count": 27,
     "metadata": {},
     "output_type": "execute_result"
    }
   ],
   "source": [
    "a"
   ]
  },
  {
   "cell_type": "code",
   "execution_count": 28,
   "id": "28fc6da8-e335-4a19-a6a8-de6e09d8db47",
   "metadata": {
    "execution": {
     "iopub.execute_input": "2023-03-09T10:01:14.282906Z",
     "iopub.status.busy": "2023-03-09T10:01:14.282504Z",
     "iopub.status.idle": "2023-03-09T10:01:14.289199Z",
     "shell.execute_reply": "2023-03-09T10:01:14.287429Z",
     "shell.execute_reply.started": "2023-03-09T10:01:14.282872Z"
    }
   },
   "outputs": [],
   "source": [
    "tree_list = [4 ,42, 40, 26, 46]"
   ]
  },
  {
   "cell_type": "code",
   "execution_count": 29,
   "id": "35799878-6784-436f-ba7f-fd040e419fb4",
   "metadata": {
    "execution": {
     "iopub.execute_input": "2023-03-09T10:01:23.517992Z",
     "iopub.status.busy": "2023-03-09T10:01:23.517584Z",
     "iopub.status.idle": "2023-03-09T10:01:23.524621Z",
     "shell.execute_reply": "2023-03-09T10:01:23.522213Z",
     "shell.execute_reply.started": "2023-03-09T10:01:23.517958Z"
    }
   },
   "outputs": [],
   "source": [
    "tree_list.sort()"
   ]
  },
  {
   "cell_type": "code",
   "execution_count": 30,
   "id": "4786621d-1f2e-4315-86f3-99c2493ac983",
   "metadata": {
    "execution": {
     "iopub.execute_input": "2023-03-09T10:01:26.734969Z",
     "iopub.status.busy": "2023-03-09T10:01:26.734517Z",
     "iopub.status.idle": "2023-03-09T10:01:26.741468Z",
     "shell.execute_reply": "2023-03-09T10:01:26.740603Z",
     "shell.execute_reply.started": "2023-03-09T10:01:26.734935Z"
    }
   },
   "outputs": [
    {
     "data": {
      "text/plain": [
       "[4, 26, 40, 42, 46]"
      ]
     },
     "execution_count": 30,
     "metadata": {},
     "output_type": "execute_result"
    }
   ],
   "source": [
    "tree_list"
   ]
  },
  {
   "cell_type": "code",
   "execution_count": 65,
   "id": "2818c343-38c1-4930-ab34-c35baf146390",
   "metadata": {
    "execution": {
     "iopub.execute_input": "2023-03-09T10:52:08.272138Z",
     "iopub.status.busy": "2023-03-09T10:52:08.271408Z",
     "iopub.status.idle": "2023-03-09T10:52:08.278451Z",
     "shell.execute_reply": "2023-03-09T10:52:08.277487Z",
     "shell.execute_reply.started": "2023-03-09T10:52:08.272073Z"
    },
    "tags": []
   },
   "outputs": [
    {
     "name": "stdout",
     "output_type": "stream",
     "text": [
      "[20, 17, 15, 10]\n"
     ]
    }
   ],
   "source": [
    "tree_list = [20, 15, 10, 17]\n",
    "tree_list.sort()\n",
    "tree_list = tree_list[::-1]\n",
    "print(tree_list)"
   ]
  },
  {
   "cell_type": "code",
   "execution_count": 66,
   "id": "b2d4d30d-a894-486e-8dc4-1f54ac2bf368",
   "metadata": {
    "execution": {
     "iopub.execute_input": "2023-03-09T10:52:08.800865Z",
     "iopub.status.busy": "2023-03-09T10:52:08.800143Z",
     "iopub.status.idle": "2023-03-09T10:52:08.819138Z",
     "shell.execute_reply": "2023-03-09T10:52:08.817977Z",
     "shell.execute_reply.started": "2023-03-09T10:52:08.800800Z"
    },
    "tags": []
   },
   "outputs": [
    {
     "name": "stdout",
     "output_type": "stream",
     "text": [
      "standard tree:  17\n",
      "3\n",
      "standard tree:  15\n",
      "7\n",
      "standard tree:  10\n",
      "22\n",
      "standard_index   :    3\n",
      "meaningful tree:  [20, 17, 15, 10]\n",
      "need   :    15\n",
      "5\n"
     ]
    },
    {
     "data": {
      "text/plain": [
       "15"
      ]
     },
     "execution_count": 66,
     "metadata": {},
     "output_type": "execute_result"
    }
   ],
   "source": [
    "desti = 7\n",
    "standard_index = 0\n",
    "for i in range(1,len(tree_list)):\n",
    "    total = 0 \n",
    "    for k in range(i):\n",
    "        total += tree_list[k] - tree_list[i]\n",
    "    \n",
    "    print(\"standard tree: \", tree_list[i])\n",
    "    print(total)\n",
    "    if total > tree_list[i]:\n",
    "        standard_index = i\n",
    "        break\n",
    "print(\"standard_index   :   \",standard_index)\n",
    "\n",
    "# calculating the exact one\n",
    "meaningful_tree = tree_list[:standard_index+1]\n",
    "print(\"meaningful tree: \",meaningful_tree)\n",
    "need = total - desti \n",
    "print(\"need   :   \", need)\n",
    "#search for the one\n",
    "import math\n",
    "for_need = math.ceil(need // standard_index)\n",
    "print(for_need)\n",
    "meaningful_tree[-1] + for_need"
   ]
  },
  {
   "cell_type": "code",
   "execution_count": null,
   "id": "47643412-848b-4334-85e4-519d4c670426",
   "metadata": {},
   "outputs": [],
   "source": [
    "def binary_search(data, search):\n",
    "    if len(data) == 1 and search == data[0]:\n",
    "        return 1\n",
    "    if len(data) == 1 and search != data[0]:\n",
    "        return 0\n",
    "    if len(data) == 0:\n",
    "        return 0\n",
    "        \n",
    "    medium = len(data) // 2\n",
    "    if search == data[medium]:\n",
    "        return 1\n",
    "    else:\n",
    "        if search > data[medium]:\n",
    "            return binary_search(data[medium:], search)\n",
    "        else:\n",
    "            return binary_search(data[:medium], search)"
   ]
  },
  {
   "cell_type": "code",
   "execution_count": null,
   "id": "9e0a579c-43e6-4082-9576-bd3ebcd18a39",
   "metadata": {},
   "outputs": [],
   "source": [
    "N_trees, take_home = 4, 7\n",
    "tree_list = [20, 15, 10, 17]\n",
    "\n",
    "def binary_search()"
   ]
  }
 ],
 "metadata": {
  "kernelspec": {
   "display_name": "Python 3 (ipykernel)",
   "language": "python",
   "name": "python3"
  },
  "language_info": {
   "codemirror_mode": {
    "name": "ipython",
    "version": 3
   },
   "file_extension": ".py",
   "mimetype": "text/x-python",
   "name": "python",
   "nbconvert_exporter": "python",
   "pygments_lexer": "ipython3",
   "version": "3.9.13"
  }
 },
 "nbformat": 4,
 "nbformat_minor": 5
}
